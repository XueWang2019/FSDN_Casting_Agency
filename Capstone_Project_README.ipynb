{
 "cells": [
  {
   "cell_type": "markdown",
   "metadata": {},
   "source": [
    "## FSND Capstone Project README"
   ]
  },
  {
   "cell_type": "markdown",
   "metadata": {},
   "source": [
    "## Result:"
   ]
  },
  {
   "cell_type": "markdown",
   "metadata": {},
   "source": [
    "1. Final url:  \n",
    "https://casting-agency-liu.herokuapp.com/"
   ]
  },
  {
   "cell_type": "markdown",
   "metadata": {},
   "source": [
    "2. Instructions to set up authentication:  \n",
    "The token for the three user: assistant, director and producer are saved in test.py file.\n",
    "They will expire at 12/03, around 20:00 (GMT+1)\n",
    "    "
   ]
  },
  {
   "cell_type": "raw",
   "metadata": {},
   "source": [
    "3. How to generate token: use below url as without front end:"
   ]
  },
  {
   "cell_type": "markdown",
   "metadata": {},
   "source": [
    "https://castingagenceudacity.eu.auth0.com/authorize?audience=http://localhost:5000&response_type=token&client_id=Wi6AkMalbQsq6b3s4xACd0bsHOIJWJHG&redirect_uri=http://localhost:5000"
   ]
  },
  {
   "cell_type": "markdown",
   "metadata": {},
   "source": [
    "## Motivation"
   ]
  },
  {
   "cell_type": "markdown",
   "metadata": {},
   "source": [
    "Through previous 4 projects, I have learned below concepts:  \n",
    "* Coding in Python 3\n",
    "* Relational Database Architecture\n",
    "* Modeling Data Objects with SQLAlchemy\n",
    "* Internet Protocols and Communication\n",
    "* Developing a Flask API\n",
    "* Authentication and Access\n",
    "* Authentication with Auth0\n",
    "* Authentication in Flask\n",
    "* Role-Based Access Control (RBAC)\n",
    "* Testing Flask Applications\n",
    "* Deploying Applications\n",
    "   \n",
    "Capston project starts almost from zero, which is a very good practis to use all of the concepts.\n",
    "For the point I am  comfortable with, this an opportunity to confirm that the ability with that skill. For those that you are less confident in, this is an opportunity to reinforce those skills and walk away very confident in them.  \n",
    "With our toolbox in hand, let's see what we're getting into with this Capstone!\n"
   ]
  },
  {
   "cell_type": "markdown",
   "metadata": {},
   "source": [
    "## Project dependencies, local development and hosting instructions,"
   ]
  },
  {
   "cell_type": "markdown",
   "metadata": {},
   "source": [
    "### Key Dependencies"
   ]
  },
  {
   "cell_type": "code",
   "execution_count": null,
   "metadata": {},
   "outputs": [],
   "source": [
    "Python 3.7\n",
    "Flask \n",
    "SQLAlchemy \n",
    "Flask-CORS \n",
    "Heroku"
   ]
  },
  {
   "cell_type": "markdown",
   "metadata": {},
   "source": [
    "### Detailed instructions for scripts to install any project dependencies, and to run the development server.\n"
   ]
  },
  {
   "cell_type": "markdown",
   "metadata": {},
   "source": [
    "1. Use Auth0 to for authenrization and authentication and Role-Base Access Control     \n",
    "2. Test all of the endpoints locally: the 16 test cases are passed locally. During this process, database path uses local postgresql database  \n",
    "3. Create a heroku application: then get the git url and application domain    \n",
    "4. Configuration:      \n",
    "* 4.1 requirements.txt: I don't use pip freeze > requirements.txt because there is problem with cloud-init, so I manually write a requirements.txt which can solve this problem  \n",
    "* 4.2 run our local migrations using our manage.py file, to mirror how Heroku will run behind the scenes for us when we deploy our application:    \n",
    "    python manage.py db init    \n",
    "    python manage.py db migrate    \n",
    "    python manage.py db upgrade    \n",
    "During this process, keep the database and password are from locally  \n",
    "\n",
    "5. Deploy    \n",
    "Use the reference from Heroku to push to git\n",
    "\n",
    "6. Add postgresql add on for our database\n",
    "After step 5, I add postgresql add on for our database, use below command:\n",
    "heroku addons:create heroku-postgresql:hobby-dev --app casting-agency-liu\n",
    "\n",
    "Use below command, you can check your configuration variables in Heroku. You will see DATABASE_URL and the URL of the database you just created.\n",
    "\n",
    "7. Modify the database link\n",
    "Now replace the DATABASE_URL with the one generated at setp6 in your py file\n",
    "\n",
    "8. Now push changes in git use git pull  \n",
    "git pull heroku master\n",
    "\n",
    "\n"
   ]
  },
  {
   "cell_type": "markdown",
   "metadata": {},
   "source": [
    "### Documentation of API behavior and RBAC controls"
   ]
  },
  {
   "cell_type": "markdown",
   "metadata": {},
   "source": [
    "Casting Agency Specifications  \n",
    "The Casting Agency models a company that is responsible for creating movies and managing and assigning actors to those movies. You are an Executive Producer within the company and are creating a system to simplify and streamline your process.\n",
    "\n",
    "Models:    \n",
    "* Movies with attributes title and release date  \n",
    "* Actors with attributes name, age and gender  \n",
    "\n",
    "Endpoints:  \n",
    "* GET /actors and /movies\n",
    "* DELETE /actors/ and /movies/\n",
    "* POST /actors and /movies and\n",
    "* PATCH /actors/ and /movies/\n",
    "\n",
    "Roles:  \n",
    "* Casting Assistant:  \n",
    "    * Can view actors and movies\n",
    "* Casting Director  \n",
    "    * All permissions a Casting Assistant has and…\n",
    "    * Add or delete an actor from the database\n",
    "    * Modify actors or movies\n",
    "* Executive Producer\n",
    "    * All permissions a Casting Director has and…\n",
    "    * Add or delete a movie from the database\n",
    "\n",
    "Tests:    \n",
    "* One test for success behavior of each endpoint  \n",
    "* One test for error behavior of each endpoint  \n",
    "* At least two tests of RBAC for each role  "
   ]
  },
  {
   "cell_type": "code",
   "execution_count": null,
   "metadata": {},
   "outputs": [],
   "source": []
  }
 ],
 "metadata": {
  "kernelspec": {
   "display_name": "Python 3",
   "language": "python",
   "name": "python3"
  },
  "language_info": {
   "codemirror_mode": {
    "name": "ipython",
    "version": 3
   },
   "file_extension": ".py",
   "mimetype": "text/x-python",
   "name": "python",
   "nbconvert_exporter": "python",
   "pygments_lexer": "ipython3",
   "version": "3.8.5"
  }
 },
 "nbformat": 4,
 "nbformat_minor": 4
}
